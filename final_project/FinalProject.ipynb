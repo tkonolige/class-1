{
 "cells": [
  {
   "cell_type": "markdown",
   "metadata": {},
   "source": [
    "# Final Project\n",
    "\n",
    "For my final project, I will solve the Black-Scholes equation $${\\frac {\\partial V}{\\partial t}}+{\\frac {1}{2}}\\sigma ^{2}S^{2}{\\frac {\\partial ^{2}V}{\\partial S^{2}}}+rS{\\frac {\\partial V}{\\partial S}}-rV=0$$ where $V$ is the cost of an option, $\\sigma$ is volitility, $r$ is interest rate, and $S$ is the stock price.\n",
    "\n",
    "I plan to solve this PDE using the finite difference method and a variety of implicit and explicit time integrators. I want to compare how the different integrators perform in terms of accuracy and cost. Ideally, I could take some historical data and see how effectively the Black-Scholes model compares to real data. In any case, I will solve the Black-Scholes equation with a variety of initial conditions and parameters to verify correctness. By the end "
   ]
  }
 ],
 "metadata": {
  "kernelspec": {
   "display_name": "Julia 0.6.0",
   "language": "julia",
   "name": "julia-0.6"
  },
  "language_info": {
   "file_extension": ".jl",
   "mimetype": "application/julia",
   "name": "julia",
   "version": "0.6.0"
  }
 },
 "nbformat": 4,
 "nbformat_minor": 2
}
